{
 "cells": [
  {
   "cell_type": "markdown",
   "metadata": {},
   "source": [
    "# Step 1:Prepare you environment on your raspberry pi\n",
    "\n",
    "<span style=\"color: red;\">Note：This part of code run on your [raspberry pi5](https://www.seeedstudio.com/Raspberry-Pi-5-2GB-p-5938.html) or [Recomputer R Series](https://www.seeedstudio.com/reComputer-R1000-Series-Optional-Accessories.html) with your [AI kit](https://www.seeedstudio.com/Raspberry-Pi-AI-Kit-p-5900.html) </span>\n",
    "\n",
    "<!-- The Jupyter Notebook right up have a button like ![select kernel](../pictures/Chapter5/select_kernel.png), then you choose ```Select Another Kernel```, and choose ```Python Environments```, then choose ```Creat Python Environment``` and choose ```Venv```, then choose ```python3.11```. -->\n",
    "\n",
    "\n",
    "## Upgrade raspberry pi\n",
    "\n",
    "```\n",
    "! sudo apt updata && sudo apt upgrade\n",
    "```\n",
    "\n",
    "## Create a virtual environment\n",
    "\n",
    "```\n",
    "python -m venv hailo_env\n",
    "```\n",
    "\n",
    "## Install jupyter \n",
    "\n",
    "```\n",
    "sudo pip install jupyter\n",
    "```"
   ]
  },
  {
   "cell_type": "code",
   "execution_count": null,
   "metadata": {},
   "outputs": [],
   "source": [
    "# Upgrade raspberry pi\n",
    "\n",
    "! sudo apt updata && sudo apt upgrade"
   ]
  }
 ],
 "metadata": {
  "kernelspec": {
   "display_name": ".venv",
   "language": "python",
   "name": "python3"
  },
  "language_info": {
   "codemirror_mode": {
    "name": "ipython",
    "version": 3
   },
   "file_extension": ".py",
   "mimetype": "text/x-python",
   "name": "python",
   "nbconvert_exporter": "python",
   "pygments_lexer": "ipython3",
   "version": "3.10.12"
  }
 },
 "nbformat": 4,
 "nbformat_minor": 2
}
